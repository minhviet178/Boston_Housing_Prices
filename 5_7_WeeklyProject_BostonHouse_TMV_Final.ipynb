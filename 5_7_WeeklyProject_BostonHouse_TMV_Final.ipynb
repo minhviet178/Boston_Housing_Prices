{
  "nbformat": 4,
  "nbformat_minor": 0,
  "metadata": {
    "colab": {
      "name": "5.7_WeeklyProject_BostonHouse_TMV_Final",
      "provenance": [],
      "collapsed_sections": [
        "yEi9eqNqm-RH",
        "EFmYmCcDqvB7",
        "GJL9L43Q6vEJ",
        "sHFBXXh66637"
      ],
      "include_colab_link": true
    },
    "kernelspec": {
      "name": "python3",
      "display_name": "Python 3"
    },
    "language_info": {
      "name": "python"
    }
  },
  "cells": [
    {
      "cell_type": "markdown",
      "metadata": {
        "id": "view-in-github",
        "colab_type": "text"
      },
      "source": [
        "<a href=\"https://colab.research.google.com/github/minhviet178/Boston_Housing_Prices/blob/main/5_7_WeeklyProject_BostonHouse_TMV_Final.ipynb\" target=\"_parent\"><img src=\"https://colab.research.google.com/assets/colab-badge.svg\" alt=\"Open In Colab\"/></a>"
      ]
    },
    {
      "cell_type": "code",
      "metadata": {
        "colab": {
          "base_uri": "https://localhost:8080/"
        },
        "id": "x6XZ3Lp-szSM",
        "outputId": "0be6a120-efe2-43a8-cee5-7ee94e547c4a"
      },
      "source": [
        "import numpy as np\n",
        "np.random.seed(2)\n",
        "np.random.normal(size = 5)"
      ],
      "execution_count": null,
      "outputs": [
        {
          "output_type": "execute_result",
          "data": {
            "text/plain": [
              "array([-0.41675785, -0.05626683, -2.1361961 ,  1.64027081, -1.79343559])"
            ]
          },
          "metadata": {
            "tags": []
          },
          "execution_count": 9
        }
      ]
    },
    {
      "cell_type": "code",
      "metadata": {
        "colab": {
          "base_uri": "https://localhost:8080/"
        },
        "id": "aLp-b5ahtLt7",
        "outputId": "32d22bdc-6cdf-4547-80b6-b08a7d01d6b1"
      },
      "source": [
        "np.zeros((2,4))"
      ],
      "execution_count": null,
      "outputs": [
        {
          "output_type": "execute_result",
          "data": {
            "text/plain": [
              "array([[0., 0., 0., 0.],\n",
              "       [0., 0., 0., 0.]])"
            ]
          },
          "metadata": {
            "tags": []
          },
          "execution_count": 12
        }
      ]
    },
    {
      "cell_type": "code",
      "metadata": {
        "colab": {
          "base_uri": "https://localhost:8080/"
        },
        "id": "J_NCWUcWsNyL",
        "outputId": "4dd57ae5-cf07-4303-8702-9df3663b1832"
      },
      "source": [
        "def vietbeo(x):\n",
        "    return x+1\n",
        "\n",
        "vietbeo(1)"
      ],
      "execution_count": null,
      "outputs": [
        {
          "output_type": "execute_result",
          "data": {
            "text/plain": [
              "2"
            ]
          },
          "metadata": {
            "tags": []
          },
          "execution_count": 1
        }
      ]
    },
    {
      "cell_type": "markdown",
      "metadata": {
        "id": "Sh5OPHm9f9sA"
      },
      "source": [
        "# Weekly Project: Predicting Boston Housing prices"
      ]
    },
    {
      "cell_type": "markdown",
      "metadata": {
        "id": "poI7w8SGghl8"
      },
      "source": [
        "In this project, you will create, evaluate the performance and predictive power of your model on data collected from homes in suburbs of Boston, Massachusetts\n",
        "\n",
        "The dataset for this project originates from the UCI Machine Learning Repository. The Boston housing data was collected in 1978 and each of the 506 entries represent aggregated data about 14 features for homes from various suburbs in Boston, Massachusetts. **Data preprocessing has been applied to your dataset**. For the purposes of this project, the following preprocessing steps have been made to the dataset:\n",
        "\n",
        "- 16 data points have an 'MEDV' value of 50.0. These data points likely contain missing or censored values and have been removed.\n",
        "- 1 data point has an 'RM' value of 8.78. This data point can be considered an outlier and has been removed.\n",
        "- The features 'RM', 'LSTAT', 'PTRATIO', and 'MEDV' are essential. The remaining non-relevant features have been excluded.\n",
        "- The feature 'MEDV' has been multiplicatively scaled to account for 35 years of market inflation.\n",
        "\n",
        "Your task is to apply a machine learning model of your choice to predict the price of houses in a Boston neighborhood (which is column 'MEDV')\n"
      ]
    },
    {
      "cell_type": "markdown",
      "metadata": {
        "id": "nJ1Wd-C_sKli"
      },
      "source": [
        "The dataset can be accessed here: https://raw.githubusercontent.com/anhquan0412/boston_housing/master/housing.csv\n"
      ]
    },
    {
      "cell_type": "markdown",
      "metadata": {
        "id": "2rMOGC22m8N6"
      },
      "source": [
        "Here are the few steps you can follow"
      ]
    },
    {
      "cell_type": "markdown",
      "metadata": {
        "id": "RGFzFBZmmOT6"
      },
      "source": [
        "\n",
        "\n",
        "# Step 1: Data Exploration (EDA)\n",
        "\n",
        "Familiarizing yourself with the data through an explorative process is a fundamental practice to help you better understand and justify your results.\n",
        "\n",
        "As a reminder, we are using three features from the Boston housing dataset: 'RM', 'LSTAT', and 'PTRATIO'. For each data point (neighborhood):\n",
        "\n",
        "- 'RM' is the average number of rooms among homes in the neighborhood.\n",
        "- 'LSTAT' is the percentage of homeowners in the neighborhood considered \"lower class\" (working poor).\n",
        "- 'PTRATIO' is the ratio of students to teachers in primary and secondary schools in the neighborhood.\n",
        "\n",
        "**Question**: For each of the three features above, do you think that an increase in the value of that feature would lead to an increase in the value of 'MEDV' or a decrease in the value of 'MEDV'? Justify your answer for each.\n",
        "\n"
      ]
    },
    {
      "cell_type": "markdown",
      "metadata": {
        "id": "SMA5U7zB2rRi"
      },
      "source": [
        "### Imports"
      ]
    },
    {
      "cell_type": "code",
      "metadata": {
        "id": "-nHh-FYPm98r"
      },
      "source": [
        "import numpy as np\n",
        "import pandas as pd\n",
        "import seaborn as sns\n",
        "import matplotlib.pyplot as plt\n",
        "\n",
        "from sklearn.datasets import make_moons, make_circles, make_classification\n",
        "from sklearn.preprocessing import StandardScaler\n",
        "from sklearn.neighbors import KNeighborsClassifier\n",
        "from sklearn.model_selection import train_test_split\n",
        "\n",
        "from sklearn.preprocessing import MinMaxScaler\n",
        "from sklearn.neighbors import KNeighborsRegressor\n",
        "\n",
        "from sklearn.linear_model import LinearRegression, Ridge, Lasso, ElasticNet\n",
        "\n",
        "from sklearn.model_selection import cross_val_score"
      ],
      "execution_count": null,
      "outputs": []
    },
    {
      "cell_type": "markdown",
      "metadata": {
        "id": "rCBCHpms2taw"
      },
      "source": [
        "### EDA"
      ]
    },
    {
      "cell_type": "code",
      "metadata": {
        "id": "60eFGC5awBPX"
      },
      "source": [
        "df = pd.read_csv('https://raw.githubusercontent.com/anhquan0412/boston_housing/master/housing.csv')"
      ],
      "execution_count": null,
      "outputs": []
    },
    {
      "cell_type": "code",
      "metadata": {
        "colab": {
          "base_uri": "https://localhost:8080/"
        },
        "id": "EnvBhPNywLmm",
        "outputId": "30d43fa9-c026-4fd4-879f-ea215bf212e0"
      },
      "source": [
        "df.head()"
      ],
      "execution_count": null,
      "outputs": [
        {
          "output_type": "execute_result",
          "data": {
            "text/html": [
              "<div>\n",
              "<style scoped>\n",
              "    .dataframe tbody tr th:only-of-type {\n",
              "        vertical-align: middle;\n",
              "    }\n",
              "\n",
              "    .dataframe tbody tr th {\n",
              "        vertical-align: top;\n",
              "    }\n",
              "\n",
              "    .dataframe thead th {\n",
              "        text-align: right;\n",
              "    }\n",
              "</style>\n",
              "<table border=\"1\" class=\"dataframe\">\n",
              "  <thead>\n",
              "    <tr style=\"text-align: right;\">\n",
              "      <th></th>\n",
              "      <th>RM</th>\n",
              "      <th>LSTAT</th>\n",
              "      <th>PTRATIO</th>\n",
              "      <th>MEDV</th>\n",
              "    </tr>\n",
              "  </thead>\n",
              "  <tbody>\n",
              "    <tr>\n",
              "      <th>0</th>\n",
              "      <td>6.575</td>\n",
              "      <td>4.98</td>\n",
              "      <td>15.3</td>\n",
              "      <td>504000.0</td>\n",
              "    </tr>\n",
              "    <tr>\n",
              "      <th>1</th>\n",
              "      <td>6.421</td>\n",
              "      <td>9.14</td>\n",
              "      <td>17.8</td>\n",
              "      <td>453600.0</td>\n",
              "    </tr>\n",
              "    <tr>\n",
              "      <th>2</th>\n",
              "      <td>7.185</td>\n",
              "      <td>4.03</td>\n",
              "      <td>17.8</td>\n",
              "      <td>728700.0</td>\n",
              "    </tr>\n",
              "    <tr>\n",
              "      <th>3</th>\n",
              "      <td>6.998</td>\n",
              "      <td>2.94</td>\n",
              "      <td>18.7</td>\n",
              "      <td>701400.0</td>\n",
              "    </tr>\n",
              "    <tr>\n",
              "      <th>4</th>\n",
              "      <td>7.147</td>\n",
              "      <td>5.33</td>\n",
              "      <td>18.7</td>\n",
              "      <td>760200.0</td>\n",
              "    </tr>\n",
              "  </tbody>\n",
              "</table>\n",
              "</div>"
            ],
            "text/plain": [
              "      RM  LSTAT  PTRATIO      MEDV\n",
              "0  6.575   4.98     15.3  504000.0\n",
              "1  6.421   9.14     17.8  453600.0\n",
              "2  7.185   4.03     17.8  728700.0\n",
              "3  6.998   2.94     18.7  701400.0\n",
              "4  7.147   5.33     18.7  760200.0"
            ]
          },
          "metadata": {
            "tags": []
          },
          "execution_count": 3
        }
      ]
    },
    {
      "cell_type": "code",
      "metadata": {
        "colab": {
          "base_uri": "https://localhost:8080/"
        },
        "id": "Sb9WL5anwTPW",
        "outputId": "e58ea59e-00e0-43db-a5d7-f341479548c0"
      },
      "source": [
        "sns.scatterplot(data = df,\n",
        "                x = 'RM',\n",
        "                y = 'MEDV')"
      ],
      "execution_count": null,
      "outputs": [
        {
          "output_type": "execute_result",
          "data": {
            "text/plain": [
              "<matplotlib.axes._subplots.AxesSubplot at 0x7f5bc3ac3e50>"
            ]
          },
          "metadata": {
            "tags": []
          },
          "execution_count": 4
        },
        {
          "output_type": "display_data",
          "data": {
            "image/png": "[encoded data removed]",
            "text/plain": [
              "<Figure size 432x288 with 1 Axes>"
            ]
          },
          "metadata": {
            "tags": [],
            "needs_background": "light"
          }
        }
      ]
    },
    {
      "cell_type": "code",
      "metadata": {
        "colab": {
          "base_uri": "https://localhost:8080/"
        },
        "id": "H3IPC8mEyk_f",
        "outputId": "60306f77-1aed-4108-b7d5-bcc434855edf"
      },
      "source": [
        "sns.scatterplot(data = df,\n",
        "                x = 'LSTAT',\n",
        "                y = 'MEDV')"
      ],
      "execution_count": null,
      "outputs": [
        {
          "output_type": "execute_result",
          "data": {
            "text/plain": [
              "<matplotlib.axes._subplots.AxesSubplot at 0x7f5bc2fa8110>"
            ]
          },
          "metadata": {
            "tags": []
          },
          "execution_count": 5
        },
        {
          "output_type": "display_data",
          "data": {
            "image/png": "[encoded data removed]",
            "text/plain": [
              "<Figure size 432x288 with 1 Axes>"
            ]
          },
          "metadata": {
            "tags": [],
            "needs_background": "light"
          }
        }
      ]
    },
    {
      "cell_type": "code",
      "metadata": {
        "colab": {
          "base_uri": "https://localhost:8080/"
        },
        "id": "QStJTf3wynuG",
        "outputId": "109c3933-865e-48f1-d111-c040a6f92646"
      },
      "source": [
        "sns.scatterplot(data = df,\n",
        "                x = 'PTRATIO',\n",
        "                y = 'MEDV')"
      ],
      "execution_count": null,
      "outputs": [
        {
          "output_type": "execute_result",
          "data": {
            "text/plain": [
              "<matplotlib.axes._subplots.AxesSubplot at 0x7f5bc2a70850>"
            ]
          },
          "metadata": {
            "tags": []
          },
          "execution_count": 6
        },
        {
          "output_type": "display_data",
          "data": {
            "image/png": "[encoded data removed]",
            "text/plain": [
              "<Figure size 432x288 with 1 Axes>"
            ]
          },
          "metadata": {
            "tags": [],
            "needs_background": "light"
          }
        }
      ]
    },
    {
      "cell_type": "markdown",
      "metadata": {
        "id": "yEi9eqNqm-RH"
      },
      "source": [
        "# Step 2: Get to know our performance Metric\n",
        "\n",
        "Do a quick read on R2 score, because that is going to be the metric we are going to use for this task.\n",
        "\n",
        "https://scikit-learn.org/stable/modules/generated/sklearn.metrics.r2_score.html\n",
        "\n",
        "https://scikit-learn.org/stable/modules/model_evaluation.html#r2-score\n",
        "\n",
        "**Question**: what is the range of R2? How can we know if a model performs well or not by using R2 score?\n",
        "- Maximum score is 1.0\n",
        "- Can be negative\n",
        "\n",
        "**Question**: Calculate R2 score on these data points\n",
        "```python\n",
        "y_true = [3, -0.5, 2, 7, 4.2]\n",
        "y_pred = [2.5, 0, 2.1, 7.8, 5.3]\n",
        "```\n",
        "If a model is making these prediction (y_pred), is this a good model?"
      ]
    },
    {
      "cell_type": "code",
      "metadata": {
        "id": "ArkOOX2MnvoF",
        "colab": {
          "base_uri": "https://localhost:8080/"
        },
        "outputId": "26dfdcfe-f4c9-4f1c-aa0f-dee81f8b36a2"
      },
      "source": [
        "from sklearn.metrics import r2_score\n",
        "y_true = [3, -0.5, 2, 7, 4.2]\n",
        "y_pred = [2.5, 0, 2.1, 7.8, 5.3]\n",
        "r2_score(y_true, y_pred)"
      ],
      "execution_count": null,
      "outputs": [
        {
          "output_type": "execute_result",
          "data": {
            "text/plain": [
              "0.9228556485355649"
            ]
          },
          "metadata": {
            "tags": []
          },
          "execution_count": 7
        }
      ]
    },
    {
      "cell_type": "markdown",
      "metadata": {
        "id": "X78OJElUnwfE"
      },
      "source": [
        "# Step 3: Train our machine learning model\n",
        "\n",
        "There won't be much guidance for this step. Your task is to pick and train a machine learning model on this dataset to predict the house price. Make sure to follow all the recommended practices we mention in class. And make sure to finetune your model and pick the best set of hyperparameters (using cross_val_score)\n",
        "\n",
        "\n",
        "Bonus part: if you want to make your whole finetuning model painless, take a look at GridSearchCV. Read the documentation here: https://scikit-learn.org/stable/modules/generated/sklearn.model_selection.GridSearchCV.html, and user guide here: https://scikit-learn.org/stable/modules/grid_search.html#grid-search\n",
        "\n"
      ]
    },
    {
      "cell_type": "code",
      "metadata": {
        "id": "FKpetiVY-rQ5"
      },
      "source": [
        "scaler = StandardScaler()\n",
        "X_transformed = scaler.fit_transform(df.drop(columns = 'MEDV'))"
      ],
      "execution_count": null,
      "outputs": []
    },
    {
      "cell_type": "markdown",
      "metadata": {
        "id": "EFmYmCcDqvB7"
      },
      "source": [
        "## GridSearchCV training"
      ]
    },
    {
      "cell_type": "markdown",
      "metadata": {
        "id": "GJL9L43Q6vEJ"
      },
      "source": [
        "### Perform GridSearchCV using KNN Regression Model\n"
      ]
    },
    {
      "cell_type": "code",
      "metadata": {
        "colab": {
          "base_uri": "https://localhost:8080/",
          "height": 197
        },
        "id": "psUMx1xZq0BE",
        "outputId": "b678687a-ee8d-426b-95ba-391b4d992e7e"
      },
      "source": [
        "from sklearn.model_selection import GridSearchCV\n",
        "\n",
        "model = KNeighborsRegressor()\n",
        "clf = GridSearchCV(model, {\n",
        "                    'n_neighbors' : range(1,50),\n",
        "                    }, cv = 5, return_train_score = False)\n",
        "clf.fit(X_transformed, df['MEDV'])\n",
        "clf.cv_results_\n",
        "df_KNN = pd.DataFrame(clf.cv_results_)\n",
        "df_KNN[['param_n_neighbors','mean_test_score']].head()"
      ],
      "execution_count": null,
      "outputs": [
        {
          "output_type": "execute_result",
          "data": {
            "text/html": [
              "<div>\n",
              "<style scoped>\n",
              "    .dataframe tbody tr th:only-of-type {\n",
              "        vertical-align: middle;\n",
              "    }\n",
              "\n",
              "    .dataframe tbody tr th {\n",
              "        vertical-align: top;\n",
              "    }\n",
              "\n",
              "    .dataframe thead th {\n",
              "        text-align: right;\n",
              "    }\n",
              "</style>\n",
              "<table border=\"1\" class=\"dataframe\">\n",
              "  <thead>\n",
              "    <tr style=\"text-align: right;\">\n",
              "      <th></th>\n",
              "      <th>param_n_neighbors</th>\n",
              "      <th>mean_test_score</th>\n",
              "    </tr>\n",
              "  </thead>\n",
              "  <tbody>\n",
              "    <tr>\n",
              "      <th>0</th>\n",
              "      <td>1</td>\n",
              "      <td>0.420851</td>\n",
              "    </tr>\n",
              "    <tr>\n",
              "      <th>1</th>\n",
              "      <td>2</td>\n",
              "      <td>0.588743</td>\n",
              "    </tr>\n",
              "    <tr>\n",
              "      <th>2</th>\n",
              "      <td>3</td>\n",
              "      <td>0.634990</td>\n",
              "    </tr>\n",
              "    <tr>\n",
              "      <th>3</th>\n",
              "      <td>4</td>\n",
              "      <td>0.644538</td>\n",
              "    </tr>\n",
              "    <tr>\n",
              "      <th>4</th>\n",
              "      <td>5</td>\n",
              "      <td>0.649551</td>\n",
              "    </tr>\n",
              "  </tbody>\n",
              "</table>\n",
              "</div>"
            ],
            "text/plain": [
              "  param_n_neighbors  mean_test_score\n",
              "0                 1         0.420851\n",
              "1                 2         0.588743\n",
              "2                 3         0.634990\n",
              "3                 4         0.644538\n",
              "4                 5         0.649551"
            ]
          },
          "metadata": {
            "tags": []
          },
          "execution_count": 9
        }
      ]
    },
    {
      "cell_type": "code",
      "metadata": {
        "colab": {
          "base_uri": "https://localhost:8080/"
        },
        "id": "-LN7Q0PurzcX",
        "outputId": "8a0276c2-a3b5-49a9-c900-4286aa022dcf"
      },
      "source": [
        "print('Best params', clf.best_params_)\n",
        "print('Best score', clf.best_score_)"
      ],
      "execution_count": null,
      "outputs": [
        {
          "output_type": "stream",
          "text": [
            "Best params {'n_neighbors': 10}\n",
            "Best score 0.6669826235080667\n"
          ],
          "name": "stdout"
        }
      ]
    },
    {
      "cell_type": "markdown",
      "metadata": {
        "id": "sHFBXXh66637"
      },
      "source": [
        "### Perform GridsearCV using multiple models"
      ]
    },
    {
      "cell_type": "code",
      "metadata": {
        "id": "qz2NrFJLvrbK"
      },
      "source": [
        "model_params = {\n",
        "    'KNN Regression': {\n",
        "        'model': KNeighborsRegressor(),\n",
        "        'params': {\n",
        "            'n_neighbors' : range(1,50)\n",
        "        }\n",
        "    },\n",
        "    'Lasso Regression': {\n",
        "        'model': Lasso(),\n",
        "        'params': {\n",
        "            'alpha': [0.0001, 0.001, 0.01, 0.1, 0.2, 0.3, 0.4, 0.5, 1, 1.5, 2]\n",
        "        }\n",
        "    },\n",
        "    'Ridge Regression': {\n",
        "        'model': Ridge(),\n",
        "        'params': {\n",
        "            'alpha': [0.0001, 0.001, 0.01, 0.1, 0.2, 0.3, 0.4, 0.5, 1, 1.5, 2]\n",
        "        }\n",
        "    },\n",
        "    'Elastic Net Regression':{\n",
        "        'model': ElasticNet(),\n",
        "        'params': {\n",
        "            'alpha': [0.0001, 0.001, 0.01, 0.1, 0.2, 0.3, 0.4, 0.5, 1, 1.5, 2]\n",
        "        }       \n",
        "    }\n",
        "}"
      ],
      "execution_count": null,
      "outputs": []
    },
    {
      "cell_type": "code",
      "metadata": {
        "id": "cLTKFjDqw3sd"
      },
      "source": [
        "from sklearn.model_selection import GridSearchCV\n",
        "scores = []\n",
        "\n",
        "for model_name, mp in model_params.items():\n",
        "    clf = GridSearchCV(mp['model'], mp['params'],\n",
        "                    cv = 5, return_train_score = False, scoring = 'r2')\n",
        "    clf.fit(X_transformed, df['MEDV'])\n",
        "    scores.append({\n",
        "        'model': model_name,\n",
        "        'best_score': clf.best_score_,\n",
        "        'best_params': clf.best_params_\n",
        "    })"
      ],
      "execution_count": null,
      "outputs": []
    },
    {
      "cell_type": "markdown",
      "metadata": {
        "id": "mrwhDUznpbzB"
      },
      "source": [
        "# Step 4: Reporting your R2 score\n",
        "\n",
        "Record your best R2 score here (from cross validation score). If you perform train/test split, record your R2 score on test set here as well.\n",
        "\n",
        "Here I decide to go with KNN Regression"
      ]
    },
    {
      "cell_type": "code",
      "metadata": {
        "colab": {
          "base_uri": "https://localhost:8080/",
          "height": 173
        },
        "id": "zDm2sukE35hL",
        "outputId": "15deba95-9228-40c7-9bdf-121ba2f35365"
      },
      "source": [
        "df_test = pd.DataFrame(scores)\n",
        "df_test\n",
        "# Choose KNN Regression"
      ],
      "execution_count": null,
      "outputs": [
        {
          "output_type": "execute_result",
          "data": {
            "text/html": [
              "<div>\n",
              "<style scoped>\n",
              "    .dataframe tbody tr th:only-of-type {\n",
              "        vertical-align: middle;\n",
              "    }\n",
              "\n",
              "    .dataframe tbody tr th {\n",
              "        vertical-align: top;\n",
              "    }\n",
              "\n",
              "    .dataframe thead th {\n",
              "        text-align: right;\n",
              "    }\n",
              "</style>\n",
              "<table border=\"1\" class=\"dataframe\">\n",
              "  <thead>\n",
              "    <tr style=\"text-align: right;\">\n",
              "      <th></th>\n",
              "      <th>model</th>\n",
              "      <th>best_score</th>\n",
              "      <th>best_params</th>\n",
              "    </tr>\n",
              "  </thead>\n",
              "  <tbody>\n",
              "    <tr>\n",
              "      <th>0</th>\n",
              "      <td>KNN Regression</td>\n",
              "      <td>0.666983</td>\n",
              "      <td>{'n_neighbors': 10}</td>\n",
              "    </tr>\n",
              "    <tr>\n",
              "      <th>1</th>\n",
              "      <td>Lasso Regression</td>\n",
              "      <td>0.423774</td>\n",
              "      <td>{'alpha': 0.0001}</td>\n",
              "    </tr>\n",
              "    <tr>\n",
              "      <th>2</th>\n",
              "      <td>Ridge Regression</td>\n",
              "      <td>0.424422</td>\n",
              "      <td>{'alpha': 2}</td>\n",
              "    </tr>\n",
              "    <tr>\n",
              "      <th>3</th>\n",
              "      <td>Elastic Net Regression</td>\n",
              "      <td>0.430388</td>\n",
              "      <td>{'alpha': 0.2}</td>\n",
              "    </tr>\n",
              "  </tbody>\n",
              "</table>\n",
              "</div>"
            ],
            "text/plain": [
              "                    model  best_score          best_params\n",
              "0          KNN Regression    0.666983  {'n_neighbors': 10}\n",
              "1        Lasso Regression    0.423774    {'alpha': 0.0001}\n",
              "2        Ridge Regression    0.424422         {'alpha': 2}\n",
              "3  Elastic Net Regression    0.430388       {'alpha': 0.2}"
            ]
          },
          "metadata": {
            "tags": []
          },
          "execution_count": 26
        }
      ]
    },
    {
      "cell_type": "markdown",
      "metadata": {
        "id": "pvNfEbcYqtAU"
      },
      "source": [
        "# Step 5: Making predictions"
      ]
    },
    {
      "cell_type": "markdown",
      "metadata": {
        "id": "vwDl5_7qqurr"
      },
      "source": [
        "Imagine that you were a real estate agent in the Boston area looking to use this model to help price homes owned by your clients that they wish to sell. You have collected the following information from three of your clients:\n",
        "\n",
        "|Feature\t|Client 1\t|Client 2\t|Client 3|\n",
        "|-----------|-----------|-----------|--------|\n",
        "|Total number of rooms in home\t|5 rooms\t|4 rooms\t|8 rooms|\n",
        "|Neighborhood poverty level (as %)\t|17%\t|32%\t|3%|\n",
        "|Student-teacher ratio of nearby schools\t|15-to-1\t|22-to-1\t|12-to-1|\n",
        "\n",
        "What price would you recommend each client sell his/her home at?\n",
        "Do these prices seem reasonable given the values for the respective features?"
      ]
    },
    {
      "cell_type": "code",
      "metadata": {
        "id": "Fv1MHRyR4DuQ",
        "colab": {
          "base_uri": "https://localhost:8080/",
          "height": 204
        },
        "outputId": "084fcb89-1e23-45ff-e5be-b8b23396eb33"
      },
      "source": [
        "df.head()"
      ],
      "execution_count": null,
      "outputs": [
        {
          "output_type": "execute_result",
          "data": {
            "text/html": [
              "<div>\n",
              "<style scoped>\n",
              "    .dataframe tbody tr th:only-of-type {\n",
              "        vertical-align: middle;\n",
              "    }\n",
              "\n",
              "    .dataframe tbody tr th {\n",
              "        vertical-align: top;\n",
              "    }\n",
              "\n",
              "    .dataframe thead th {\n",
              "        text-align: right;\n",
              "    }\n",
              "</style>\n",
              "<table border=\"1\" class=\"dataframe\">\n",
              "  <thead>\n",
              "    <tr style=\"text-align: right;\">\n",
              "      <th></th>\n",
              "      <th>RM</th>\n",
              "      <th>LSTAT</th>\n",
              "      <th>PTRATIO</th>\n",
              "      <th>MEDV</th>\n",
              "    </tr>\n",
              "  </thead>\n",
              "  <tbody>\n",
              "    <tr>\n",
              "      <th>0</th>\n",
              "      <td>6.575</td>\n",
              "      <td>4.98</td>\n",
              "      <td>15.3</td>\n",
              "      <td>504000.0</td>\n",
              "    </tr>\n",
              "    <tr>\n",
              "      <th>1</th>\n",
              "      <td>6.421</td>\n",
              "      <td>9.14</td>\n",
              "      <td>17.8</td>\n",
              "      <td>453600.0</td>\n",
              "    </tr>\n",
              "    <tr>\n",
              "      <th>2</th>\n",
              "      <td>7.185</td>\n",
              "      <td>4.03</td>\n",
              "      <td>17.8</td>\n",
              "      <td>728700.0</td>\n",
              "    </tr>\n",
              "    <tr>\n",
              "      <th>3</th>\n",
              "      <td>6.998</td>\n",
              "      <td>2.94</td>\n",
              "      <td>18.7</td>\n",
              "      <td>701400.0</td>\n",
              "    </tr>\n",
              "    <tr>\n",
              "      <th>4</th>\n",
              "      <td>7.147</td>\n",
              "      <td>5.33</td>\n",
              "      <td>18.7</td>\n",
              "      <td>760200.0</td>\n",
              "    </tr>\n",
              "  </tbody>\n",
              "</table>\n",
              "</div>"
            ],
            "text/plain": [
              "      RM  LSTAT  PTRATIO      MEDV\n",
              "0  6.575   4.98     15.3  504000.0\n",
              "1  6.421   9.14     17.8  453600.0\n",
              "2  7.185   4.03     17.8  728700.0\n",
              "3  6.998   2.94     18.7  701400.0\n",
              "4  7.147   5.33     18.7  760200.0"
            ]
          },
          "metadata": {
            "tags": []
          },
          "execution_count": 15
        }
      ]
    },
    {
      "cell_type": "code",
      "metadata": {
        "colab": {
          "base_uri": "https://localhost:8080/",
          "height": 142
        },
        "id": "xCKgqV9m_mMi",
        "outputId": "de9d6d5b-26a6-4ddf-ce57-6734fff75053"
      },
      "source": [
        "test_case = {'RM':[5, 4, 8], 'LSTAT': [0.17, 0.32, 0.03], 'PTRATIO': [15, 22, 12]}\n",
        "df_test = pd.DataFrame(test_case)\n",
        "df_test"
      ],
      "execution_count": null,
      "outputs": [
        {
          "output_type": "execute_result",
          "data": {
            "text/html": [
              "<div>\n",
              "<style scoped>\n",
              "    .dataframe tbody tr th:only-of-type {\n",
              "        vertical-align: middle;\n",
              "    }\n",
              "\n",
              "    .dataframe tbody tr th {\n",
              "        vertical-align: top;\n",
              "    }\n",
              "\n",
              "    .dataframe thead th {\n",
              "        text-align: right;\n",
              "    }\n",
              "</style>\n",
              "<table border=\"1\" class=\"dataframe\">\n",
              "  <thead>\n",
              "    <tr style=\"text-align: right;\">\n",
              "      <th></th>\n",
              "      <th>RM</th>\n",
              "      <th>LSTAT</th>\n",
              "      <th>PTRATIO</th>\n",
              "    </tr>\n",
              "  </thead>\n",
              "  <tbody>\n",
              "    <tr>\n",
              "      <th>0</th>\n",
              "      <td>5</td>\n",
              "      <td>0.17</td>\n",
              "      <td>15</td>\n",
              "    </tr>\n",
              "    <tr>\n",
              "      <th>1</th>\n",
              "      <td>4</td>\n",
              "      <td>0.32</td>\n",
              "      <td>22</td>\n",
              "    </tr>\n",
              "    <tr>\n",
              "      <th>2</th>\n",
              "      <td>8</td>\n",
              "      <td>0.03</td>\n",
              "      <td>12</td>\n",
              "    </tr>\n",
              "  </tbody>\n",
              "</table>\n",
              "</div>"
            ],
            "text/plain": [
              "   RM  LSTAT  PTRATIO\n",
              "0   5   0.17       15\n",
              "1   4   0.32       22\n",
              "2   8   0.03       12"
            ]
          },
          "metadata": {
            "tags": []
          },
          "execution_count": 17
        }
      ]
    },
    {
      "cell_type": "code",
      "metadata": {
        "colab": {
          "base_uri": "https://localhost:8080/"
        },
        "id": "6wrRveeEAFwq",
        "outputId": "de2147d6-214d-4c7f-f628-8a05db265a4c"
      },
      "source": [
        "KNN_Reg = KNeighborsRegressor(n_neighbors=10)\n",
        "KNN_Reg.fit(X_transformed, df['MEDV'])\n",
        "\n",
        "# Predict \n",
        "y_test_pred = KNN_Reg.predict(df_test)\n",
        "y_test_pred \n",
        "# r2_score(y_test, y_test_pred)"
      ],
      "execution_count": null,
      "outputs": [
        {
          "output_type": "execute_result",
          "data": {
            "text/plain": [
              "array([458220., 417270., 527730.])"
            ]
          },
          "metadata": {
            "tags": []
          },
          "execution_count": 23
        }
      ]
    },
    {
      "cell_type": "markdown",
      "metadata": {
        "id": "roLB6ldjA8vx"
      },
      "source": [
        "### Predictions for all clients\n",
        "Client 1: 458220\n",
        "\n",
        "Client 2: 417270\n",
        "\n",
        "Client 3: 527730"
      ]
    },
    {
      "cell_type": "markdown",
      "metadata": {
        "id": "Wwq9I7Nor0CP"
      },
      "source": [
        "# Step 6: Applicability\n",
        "\n",
        "In a few sentences, discuss whether the constructed model should or should not be used in a real-world setting.\n",
        "\n",
        "Hint: Take a look at the range in prices as calculated in the code snippet above. Some questions to answering:\n",
        "\n",
        "- How relevant today is data that was collected from 1978? How important is inflation?\n",
        "\n",
        "`The cumulative rate of Inflation since 1978 to 2021 is nearly 2600%, so anything cost a dollar back then would cost us almost 27 dollars in 2020. So the data in 1978 has to be adjusted for inflation to be used nowdays.`\n",
        "\n",
        "- Are the features present in the data sufficient to describe a home? Do you think factors like quality of apppliances in the home, square feet of the plot area, presence of pool or not etc should factor in?\n",
        "\n",
        "`After trying 4 ML models, all 4 of them got a very low cross validation score. While it could be the model's problem, the features are certainly insufficient to describe the price of a home. There are way more features that are more relevant for a house's price such as the area of the house in square foot, the number of bedrooms, toilets, bathrooms.`\n",
        "\n",
        "- Is the model robust enough to make consistent predictions?\n",
        "\n",
        "`The model only has around 66% cv 5 score so definitely not consistent enough.` \n",
        "\n",
        "- Would data collected in an urban city like Boston be applicable in a rural city?\n",
        "\n",
        "`No, duh.`\n",
        "\n",
        "- Is it fair to judge the price of an individual home based on the characteristics of the entire neighborhood?\n",
        "\n",
        "`It is fair to an extent, since a poorer neighbourhood may have cheaper house. However, that's only an assumption that we made. As i said earlier, more features must be taken into account for the model to be more effective at recommending house prices.`"
      ]
    }
  ]
}